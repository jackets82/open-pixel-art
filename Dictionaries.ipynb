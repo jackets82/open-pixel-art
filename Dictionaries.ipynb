{
  "nbformat": 4,
  "nbformat_minor": 0,
  "metadata": {
    "colab": {
      "name": "Dictionaries.ipynb",
      "provenance": [],
      "collapsed_sections": [],
      "authorship_tag": "ABX9TyOI6zkKfAnhIGPirhInwYG5",
      "include_colab_link": true
    },
    "kernelspec": {
      "name": "python3",
      "display_name": "Python 3"
    },
    "language_info": {
      "name": "python"
    }
  },
  "cells": [
    {
      "cell_type": "markdown",
      "metadata": {
        "id": "view-in-github",
        "colab_type": "text"
      },
      "source": [
        "<a href=\"https://colab.research.google.com/github/jackets82/open-pixel-art/blob/master/Dictionaries.ipynb\" target=\"_parent\"><img src=\"https://colab.research.google.com/assets/colab-badge.svg\" alt=\"Open In Colab\"/></a>"
      ]
    },
    {
      "cell_type": "markdown",
      "source": [
        "# **Dictionaries**\n",
        "Dictionaries in Python are one of the four collection data types (the others being List, Tuple and Set), and is **ordered** and **changeable**. Like a language dictionary, you look up a word (or key in this case) and find something associated with it. These are called key:value pairs. A dictionary is created with a pair of curly braces, {}, and looks like this:\n"
      ],
      "metadata": {
        "id": "16kcUdIhUCA3"
      }
    },
    {
      "cell_type": "code",
      "execution_count": null,
      "metadata": {
        "id": "qJqDH1LzRnoS"
      },
      "outputs": [],
      "source": [
        "codingClubContacts = {'Adam' : 4098, 'Hattie': 1016, 'James' : 2049 }"
      ]
    },
    {
      "cell_type": "markdown",
      "source": [
        "Here we can see the names of each of the Coding Club staff members and an associated extension (please don't ring the extensions! They're just random numbers and I'm not responsible for who they get through to). \n",
        "So let's say you wish to find the number for Hattie, you would do so using square brackets:"
      ],
      "metadata": {
        "id": "58wRF4dCUBHV"
      }
    },
    {
      "cell_type": "code",
      "source": [
        "codingClubContacts['Hattie']"
      ],
      "metadata": {
        "colab": {
          "base_uri": "https://localhost:8080/"
        },
        "id": "sKEFNQ2HY0U-",
        "outputId": "5269d27a-299e-461b-bae3-9fd863799381"
      },
      "execution_count": null,
      "outputs": [
        {
          "output_type": "execute_result",
          "data": {
            "text/plain": [
              "1016"
            ]
          },
          "metadata": {},
          "execution_count": 40
        }
      ]
    },
    {
      "cell_type": "markdown",
      "source": [
        "Simple right? You can have a look at what's in a dictionary:"
      ],
      "metadata": {
        "id": "nkvo1kbVY48g"
      }
    },
    {
      "cell_type": "code",
      "source": [
        "codingClubContacts"
      ],
      "metadata": {
        "colab": {
          "base_uri": "https://localhost:8080/"
        },
        "id": "Jvfp57GhY3IO",
        "outputId": "82a75e50-8d35-4d96-90be-b68ff3a64763"
      },
      "execution_count": null,
      "outputs": [
        {
          "output_type": "execute_result",
          "data": {
            "text/plain": [
              "{'Adam': 4098, 'Hattie': 1016, 'James': 2049}"
            ]
          },
          "metadata": {},
          "execution_count": 41
        }
      ]
    },
    {
      "cell_type": "markdown",
      "source": [
        "You can add stuff:"
      ],
      "metadata": {
        "id": "QWQ7Q4y4Zk0q"
      }
    },
    {
      "cell_type": "code",
      "source": [
        "codingClubContacts['New Person'] = 2362\n",
        "codingClubContacts"
      ],
      "metadata": {
        "colab": {
          "base_uri": "https://localhost:8080/"
        },
        "id": "_LoUfPp1ZjlL",
        "outputId": "0e710484-bb9d-489e-c1e6-5fd13560f10b"
      },
      "execution_count": null,
      "outputs": [
        {
          "output_type": "execute_result",
          "data": {
            "text/plain": [
              "{'Adam': 4098, 'Hattie': 1016, 'James': 2049, 'New Person': 2362}"
            ]
          },
          "metadata": {},
          "execution_count": 42
        }
      ]
    },
    {
      "cell_type": "markdown",
      "source": [
        "You can take stuff away:"
      ],
      "metadata": {
        "id": "vRCZHfUiaGZf"
      }
    },
    {
      "cell_type": "code",
      "source": [
        "del codingClubContacts['New Person']\n",
        "codingClubContacts"
      ],
      "metadata": {
        "colab": {
          "base_uri": "https://localhost:8080/"
        },
        "id": "tFKGX2GgaDou",
        "outputId": "900f0df9-2fd0-459c-d2d9-a7f3c0dee182"
      },
      "execution_count": null,
      "outputs": [
        {
          "output_type": "execute_result",
          "data": {
            "text/plain": [
              "{'Adam': 4098, 'Hattie': 1016, 'James': 2049}"
            ]
          },
          "metadata": {},
          "execution_count": 43
        }
      ]
    },
    {
      "cell_type": "markdown",
      "source": [
        "**Warning**\n",
        "Del can also delete the entire dictionary!\n",
        "\n",
        "You can access either the keys or values:"
      ],
      "metadata": {
        "id": "FyYBTtDea6eC"
      }
    },
    {
      "cell_type": "code",
      "source": [
        "codingClubContacts.values()"
      ],
      "metadata": {
        "colab": {
          "base_uri": "https://localhost:8080/"
        },
        "id": "nXdRKiOkaUjN",
        "outputId": "bf2d4057-2058-48a1-b62d-289829231a88"
      },
      "execution_count": null,
      "outputs": [
        {
          "output_type": "execute_result",
          "data": {
            "text/plain": [
              "dict_values([4098, 1016, 2049])"
            ]
          },
          "metadata": {},
          "execution_count": 44
        }
      ]
    },
    {
      "cell_type": "code",
      "source": [
        "codingClubContacts.keys()"
      ],
      "metadata": {
        "colab": {
          "base_uri": "https://localhost:8080/"
        },
        "id": "3Cpf3_lNash-",
        "outputId": "817462fa-8563-46ed-cb56-da92d45ffd3d"
      },
      "execution_count": null,
      "outputs": [
        {
          "output_type": "execute_result",
          "data": {
            "text/plain": [
              "dict_keys(['Adam', 'Hattie', 'James'])"
            ]
          },
          "metadata": {},
          "execution_count": 45
        }
      ]
    },
    {
      "cell_type": "markdown",
      "source": [
        "You can also merge dictionaries together. You have to be a bit careful here though. Dictionaries cannot contain duplicated keys. Therefore if the Wyton Coding Club merged with another (lesser!) club that also has a dictionary of contacts then we could do the following:"
      ],
      "metadata": {
        "id": "JNBMeUYpdmQm"
      }
    },
    {
      "cell_type": "code",
      "source": [
        "lesserCodingClubContacts = {'Bob': 1254, 'Janet': 9825, 'Fred': 7203}"
      ],
      "metadata": {
        "id": "Fb8Ftl-YdVL2"
      },
      "execution_count": null,
      "outputs": []
    },
    {
      "cell_type": "code",
      "source": [
        "codingClubContacts.update(lesserCodingClubContacts)"
      ],
      "metadata": {
        "id": "y-T9-nG_eXnL"
      },
      "execution_count": null,
      "outputs": []
    },
    {
      "cell_type": "markdown",
      "source": [
        "And we would end up with:"
      ],
      "metadata": {
        "id": "yiGinvPneeNH"
      }
    },
    {
      "cell_type": "code",
      "source": [
        "codingClubContacts"
      ],
      "metadata": {
        "colab": {
          "base_uri": "https://localhost:8080/"
        },
        "id": "bjamLPq4edxi",
        "outputId": "14c417ae-51e2-4dac-8323-4a73f3376f98"
      },
      "execution_count": null,
      "outputs": [
        {
          "output_type": "execute_result",
          "data": {
            "text/plain": [
              "{'Adam': 4098,\n",
              " 'Bob': 1254,\n",
              " 'Fred': 7203,\n",
              " 'Hattie': 1016,\n",
              " 'James': 2049,\n",
              " 'Janet': 9825}"
            ]
          },
          "metadata": {},
          "execution_count": 48
        }
      ]
    },
    {
      "cell_type": "markdown",
      "source": [
        "Happy days, nice and straightforward. Lets say a third club wishes to join us but they also have a Fred, watch what happens when I merge the two dictionaries."
      ],
      "metadata": {
        "id": "TgBTZojuekFB"
      }
    },
    {
      "cell_type": "code",
      "source": [
        "anotherNewClub = {'Veronica': 2395, 'Fred': 1010, 'Gertrude': 2384}"
      ],
      "metadata": {
        "id": "fUJ6z9-iecyt"
      },
      "execution_count": null,
      "outputs": []
    },
    {
      "cell_type": "code",
      "source": [
        "codingClubContacts.update(anotherNewClub)\n",
        "codingClubContacts"
      ],
      "metadata": {
        "colab": {
          "base_uri": "https://localhost:8080/"
        },
        "id": "ZFU942U7fGWy",
        "outputId": "5afe63d3-c8e0-4f28-d973-b9b0de117e9b"
      },
      "execution_count": null,
      "outputs": [
        {
          "output_type": "execute_result",
          "data": {
            "text/plain": [
              "{'Adam': 4098,\n",
              " 'Bob': 1254,\n",
              " 'Fred': 1010,\n",
              " 'Gertrude': 2384,\n",
              " 'Hattie': 1016,\n",
              " 'James': 2049,\n",
              " 'Janet': 9825,\n",
              " 'Veronica': 2395}"
            ]
          },
          "metadata": {},
          "execution_count": 51
        }
      ]
    },
    {
      "cell_type": "markdown",
      "source": [
        "We can see that old Fred has gone and new Fred is the only one left! So long old Fred.\n",
        "\n",
        "Usually keys in a dictionary can only be a string or a number (you can use Tuples under certain circumstances but that's beyond the scope of this tutorial), but the value can be any data type:"
      ],
      "metadata": {
        "id": "yfslOspFfP_h"
      }
    },
    {
      "cell_type": "code",
      "source": [
        "aComplexDictionary = {'String' : 'Some words', 'Int': 1234, 'Boolean': True, 'List': ['1', '2', '3'], 'Dict': {1: 'One', 2: 'Two', 3: 'Three'}}\n",
        "aComplexDictionary"
      ],
      "metadata": {
        "colab": {
          "base_uri": "https://localhost:8080/"
        },
        "id": "XYfS8BZCfOOp",
        "outputId": "5cf7ed6c-0c8c-405a-c7f5-cf4493e96f19"
      },
      "execution_count": null,
      "outputs": [
        {
          "output_type": "execute_result",
          "data": {
            "text/plain": [
              "{'Boolean': True,\n",
              " 'Dict': {1: 'One', 2: 'Two', 3: 'Three'},\n",
              " 'Int': 1234,\n",
              " 'List': ['1', '2', '3'],\n",
              " 'String': 'Some words'}"
            ]
          },
          "metadata": {},
          "execution_count": 57
        }
      ]
    },
    {
      "cell_type": "markdown",
      "source": [
        "You'll notice that aComplexDictionary contains another dictionary! This introduces nesting. You already know how to access key:value pairs `(codingClubContacts['Adam'])`, but how do you access a nested dictionary. Why not have a quick play in the cell below. Try and access the `key:value` pair `1:'One'` in `'Dict'`."
      ],
      "metadata": {
        "id": "UCbBvpylhVQj"
      }
    },
    {
      "cell_type": "code",
      "source": [
        ""
      ],
      "metadata": {
        "id": "GdwlETDNhTMS"
      },
      "execution_count": null,
      "outputs": []
    },
    {
      "cell_type": "markdown",
      "source": [
        "Hopefully you were able to do that, but if not this is the way:"
      ],
      "metadata": {
        "id": "2L62LsYdh5aT"
      }
    },
    {
      "cell_type": "code",
      "source": [
        "aComplexDictionary['Dict'][1]"
      ],
      "metadata": {
        "colab": {
          "base_uri": "https://localhost:8080/",
          "height": 35
        },
        "id": "dnYkhRfziJAy",
        "outputId": "99c32aa0-ec28-45ff-ec59-2d3ffd6735a3"
      },
      "execution_count": null,
      "outputs": [
        {
          "output_type": "execute_result",
          "data": {
            "application/vnd.google.colaboratory.intrinsic+json": {
              "type": "string"
            },
            "text/plain": [
              "'One'"
            ]
          },
          "metadata": {},
          "execution_count": 59
        }
      ]
    },
    {
      "cell_type": "markdown",
      "source": [
        "That's pretty much it for dictionaries. I'd like you to test yourself with the following exercises.\n",
        "\n",
        "Create a dictionary containing friends or family, using names and contact numbers as your key:value pairs. Have a play around with adding and removing pairs, and also investigate `pop()` and `popitem()` as well as other methods which you can find [here](https://https://www.programiz.com/python-programming/methods/dictionary)."
      ],
      "metadata": {
        "id": "iFcmPhVGsONa"
      }
    },
    {
      "cell_type": "code",
      "source": [
        ""
      ],
      "metadata": {
        "id": "NC0MUvRliI97"
      },
      "execution_count": null,
      "outputs": []
    },
    {
      "cell_type": "markdown",
      "source": [
        "Now have a look at the dictionary below, and using f strings, print out the message `\"Hi Adam, Hattie and James\"`."
      ],
      "metadata": {
        "id": "PHtxsyvNtI2p"
      }
    },
    {
      "cell_type": "code",
      "source": [
        "myChallengeDictionary = {1: 'Adam', 'Two': {'Name': 'Hattie', 'Dict': {1: 1, 2: 'Two', 'four': 'James'}}}"
      ],
      "metadata": {
        "id": "dKCt-todtMAB"
      },
      "execution_count": null,
      "outputs": []
    },
    {
      "cell_type": "code",
      "source": [
        ""
      ],
      "metadata": {
        "id": "3mLV_QZZvSwi"
      },
      "execution_count": null,
      "outputs": []
    },
    {
      "cell_type": "markdown",
      "source": [
        "If you find yourself struggling, think about how we accessed the nested dictionary at line 59 and work from there. Have a play and if you genuinely can't do it then please get in touch and we'll help you work it out. There is a bit of a gotcha when using f strings and accessing dictionaries. You'll have to use single quote marks for one, and double quote marks for the other otherwise you'll get a syntax error.\n",
        "\n",
        "Hopefully you found this useful. Until next time, happy coding!"
      ],
      "metadata": {
        "id": "kuBHyjHcvT9r"
      }
    }
  ]
}